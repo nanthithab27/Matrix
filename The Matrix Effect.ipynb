{
 "cells": [
  {
   "cell_type": "markdown",
   "id": "1a0e1c96-bcaa-4d7d-92a6-e5389dbd7b81",
   "metadata": {},
   "source": [
    "**The Matrix Effect**"
   ]
  },
  {
   "cell_type": "code",
   "execution_count": 14,
   "id": "d2d7efd0-52b0-46d4-9e4a-9365bf7f3776",
   "metadata": {},
   "outputs": [],
   "source": [
    "import pygame\n",
    "import sys\n",
    "\n",
    "# Initialize Pygame\n",
    "pygame.init()\n",
    "\n",
    "# Screen dimensions\n",
    "WIDTH, HEIGHT = 800, 600\n",
    "\n",
    "# Set up the display\n",
    "screen = pygame.display.set_mode((WIDTH, HEIGHT))\n",
    "pygame.display.set_caption('Matrix Effect')\n"
   ]
  },
  {
   "cell_type": "code",
   "execution_count": 18,
   "id": "b96d0289-6b52-4bbc-8e3d-e3180e70e249",
   "metadata": {},
   "outputs": [],
   "source": [
    "# Define colors\n",
    "BACKGROUND_COLOR = (0, 0, 0)  # Black\n",
    "TEXT_COLOR = (0, 255, 0)  # Green\n",
    "\n",
    "# Load font\n",
    "FONT_SIZE = 20\n",
    "font = pygame.font.SysFont('monospace', FONT_SIZE)\n"
   ]
  },
  {
   "cell_type": "code",
   "execution_count": 20,
   "id": "608f792f-47ba-49c6-a7e3-63e5916cc80c",
   "metadata": {},
   "outputs": [],
   "source": [
    "# Calculate number of columns and initialize drops\n",
    "columns = WIDTH // FONT_SIZE\n",
    "drops = [0] * columns\n"
   ]
  },
  {
   "cell_type": "code",
   "execution_count": null,
   "id": "4ff8ff4a-b3ea-4da4-ba16-fae660462c8e",
   "metadata": {},
   "outputs": [],
   "source": [
    "# Create a clock object to control the frame rate\n",
    "clock = pygame.time.Clock()\n",
    "\n",
    "while True:\n",
    "    # Handle events\n",
    "    for event in pygame.event.get():\n",
    "        if event.type == pygame.QUIT:\n",
    "            pygame.quit()\n",
    "            sys.exit()\n",
    "\n",
    "    # Clear screen with the background color\n",
    "    screen.fill(BACKGROUND_COLOR)\n",
    "\n",
    "    # Draw characters\n",
    "    for i in range(columns):\n",
    "        # Random ASCII character\n",
    "        char = chr(random.randint(33, 126))  \n",
    "        # Render the character\n",
    "        text_surface = font.render(char, True, TEXT_COLOR)\n",
    "        # Draw the character at the current position\n",
    "        screen.blit(text_surface, (i * FONT_SIZE, drops[i] * FONT_SIZE))\n",
    "\n",
    "        # Reset drop position if it goes off screen\n",
    "        if drops[i] * FONT_SIZE > HEIGHT and random.random() > 0.975:\n",
    "            drops[i] = 0\n",
    "\n",
    "        # Move the drop down\n",
    "        drops[i] += 1\n",
    "\n",
    "    # Update the display\n",
    "    pygame.display.flip()\n",
    "    # Control the frame rate\n",
    "    clock.tick(30)  # 30 frames per second\n"
   ]
  }
 ],
 "metadata": {
  "kernelspec": {
   "display_name": "Python 3 (ipykernel)",
   "language": "python",
   "name": "python3"
  },
  "language_info": {
   "codemirror_mode": {
    "name": "ipython",
    "version": 3
   },
   "file_extension": ".py",
   "mimetype": "text/x-python",
   "name": "python",
   "nbconvert_exporter": "python",
   "pygments_lexer": "ipython3",
   "version": "3.12.4"
  }
 },
 "nbformat": 4,
 "nbformat_minor": 5
}
